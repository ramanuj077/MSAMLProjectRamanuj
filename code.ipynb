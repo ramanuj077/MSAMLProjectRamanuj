{
 "cells": [
  {
   "cell_type": "code",
   "execution_count": null,
   "id": "5cb409b3",
   "metadata": {},
   "outputs": [],
   "source": [
    "import numpy as np\n",
    "import matplotlib.pyplot as plt\n",
    "import pandas as pd\n",
    "\n",
    "employee_status=pd.read_csv('WA_Fn-UseC_-HR-Employee-Attrition.csv')\n",
    "employee_status.head()\n"
   ]
  },
  {
   "cell_type": "code",
   "execution_count": null,
   "id": "b3ac7ba2",
   "metadata": {},
   "outputs": [],
   "source": [
    "print(employee_status.shape)\n",
    "print(employee_status.columns)\n",
    "print(employee_status.dtypes)"
   ]
  },
  {
   "cell_type": "code",
   "execution_count": null,
   "id": "3d461d16",
   "metadata": {},
   "outputs": [],
   "source": [
    "data=employee_status.copy()\n",
    "for col in data.columns:\n",
    "    if data[col].dtype in ['float64', 'int64']:\n",
    "        data[col] = data[col].fillna(data[col].median())\n",
    "    else:\n",
    "        data[col] = data[col].fillna(data[col].mode()[0])\n"
   ]
  },
  {
   "cell_type": "code",
   "execution_count": null,
   "id": "cb9eae30",
   "metadata": {},
   "outputs": [],
   "source": [
    "data.drop(columns=['Over18'])\n"
   ]
  },
  {
   "cell_type": "code",
   "execution_count": null,
   "id": "a1d7dd62",
   "metadata": {},
   "outputs": [],
   "source": [
    "data.to_csv(\"clean_employee_attrition.csv\", index=False)"
   ]
  },
  {
   "cell_type": "code",
   "execution_count": null,
   "id": "fcc17516",
   "metadata": {},
   "outputs": [],
   "source": [
    "from sklearn.preprocessing import StandardScaler\n",
    "\n",
    "num_cols = [\"Age\", \"DailyRate\", \"DistanceFromHome\", \"HourlyRate\", \"MonthlyIncome\", \"MonthlyRate\", \"NumCompaniesWorked\",\n",
    "            \"PercentSalaryHike\", \"TotalWorkingYears\", \"TrainingTimesLastYear\", \"YearsAtCompany\", \"YearsInCurrentRole\",\n",
    "            \"YearsSinceLastPromotion\"]\n",
    "\n",
    "scaler = StandardScaler()\n",
    "data[num_cols] = scaler.fit_transform(data[num_cols])"
   ]
  },
  {
   "cell_type": "code",
   "execution_count": null,
   "id": "46ed04b1",
   "metadata": {},
   "outputs": [],
   "source": [
    "from sklearn.preprocessing import LabelEncoder\n",
    "le = LabelEncoder()\n",
    "import seaborn as sb\n",
    "for i in data.select_dtypes(include=['object']).columns:\n",
    "    data[i] = le.fit_transform(data[i])\n",
    "corellation = data.corr()['Attrition'].sort_values(ascending=False)\n",
    "print(corellation)\n",
    "sb.heatmap(corellation.to_frame(), annot=False, cmap='coolwarm')"
   ]
  },
  {
   "cell_type": "code",
   "execution_count": null,
   "id": "3ecf352a",
   "metadata": {},
   "outputs": [],
   "source": [
    "import matplotlib.pyplot as plt\n",
    "sb.countplot(x='Attrition', data=data)\n",
    "plt.title('Employee Attrition Count')\n",
    "plt.show()\n"
   ]
  },
  {
   "cell_type": "code",
   "execution_count": null,
   "id": "f22b1b89",
   "metadata": {},
   "outputs": [],
   "source": [
    "features=data.drop('Attrition', axis=1)\n",
    "target=data['Attrition']\n",
    "from sklearn.model_selection import train_test_split\n",
    "X_train, X_test, y_train, y_test = train_test_split(features, target, test_size=0.2, random_state=42)\n"
   ]
  },
  {
   "cell_type": "code",
   "execution_count": null,
   "id": "7a5a0e46",
   "metadata": {},
   "outputs": [],
   "source": [
    "from sklearn.linear_model import LogisticRegression\n",
    "\n",
    "model = LogisticRegression(class_weight='balanced', max_iter=1000, random_state=42)\n",
    "model.fit(X_train, y_train)"
   ]
  },
  {
   "cell_type": "code",
   "execution_count": null,
   "id": "8eee5b84",
   "metadata": {},
   "outputs": [],
   "source": [
    "import pickle\n",
    "with open('employee_attrition_model.pkl', 'wb') as file:\n",
    "    pickle.dump(model, file)"
   ]
  },
  {
   "cell_type": "code",
   "execution_count": null,
   "id": "d4ca0660",
   "metadata": {},
   "outputs": [],
   "source": [
    "from sklearn.metrics import accuracy_score, precision_score, recall_score, classification_report\n",
    "\n",
    "y_pred = model.predict(X_test)\n",
    "print(\"Accuracy:\", accuracy_score(y_test, y_pred))\n",
    "print(\"Precision:\", precision_score(y_test, y_pred))\n",
    "print(\"Recall:\", recall_score(y_test, y_pred))\n",
    "print(classification_report(y_test, y_pred))"
   ]
  },
  {
   "cell_type": "code",
   "execution_count": null,
   "id": "7098ad81",
   "metadata": {},
   "outputs": [],
   "source": [
    "from sklearn.metrics import confusion_matrix\n",
    "import seaborn as sb\n",
    "import matplotlib.pyplot as plt\n",
    "\n",
    "cm = confusion_matrix(y_test, y_pred)\n",
    "sb.heatmap(cm, annot=True, fmt='d', cmap='Blues')\n",
    "plt.xlabel('Predicted')\n",
    "plt.ylabel('Actual')\n",
    "plt.title('Confusion Matrix')\n",
    "plt.show()"
   ]
  },
  {
   "cell_type": "code",
   "execution_count": 18,
   "id": "e2ff1c9e",
   "metadata": {},
   "outputs": [],
   "source": [
    "# RESULTS AND TESTING"
   ]
  },
  {
   "cell_type": "code",
   "execution_count": 19,
   "id": "d1428339",
   "metadata": {},
   "outputs": [
    {
     "name": "stdout",
     "output_type": "stream",
     "text": [
      "Will the employee leave? No\n"
     ]
    }
   ],
   "source": [
    "new_employee_dict = {\n",
    "    col: 0 for col in features.columns\n",
    "}\n",
    "new_employee_dict.update({\n",
    "    \"Age\": 28,\n",
    "    \"DistanceFromHome\": 5,\n",
    "    \"MonthlyIncome\": 42000,\n",
    "    \"OverTime\": 1,\n",
    "    \"JobSatisfaction\": 3,\n",
    "    \"JobRole\": 7\n",
    "})\n",
    "new_employee = pd.DataFrame([new_employee_dict])\n",
    "new_employee[num_cols] = scaler.transform(new_employee[num_cols])\n",
    "\n",
    "prediction = model.predict(new_employee)\n",
    "print(\"Will the employee leave?\", \"Yes\" if prediction[0] == 1 else \"No\")"
   ]
  },
  {
   "cell_type": "code",
   "execution_count": 20,
   "id": "57bc6c5d",
   "metadata": {},
   "outputs": [
    {
     "name": "stdout",
     "output_type": "stream",
     "text": [
      "Probability of leaving: 0.2550\n"
     ]
    }
   ],
   "source": [
    "prob = model.predict_proba(new_employee)[0][1]\n",
    "print(f\"Probability of leaving: {prob:.4f}\")"
   ]
  }
 ],
 "metadata": {
  "kernelspec": {
   "display_name": "Python 3",
   "language": "python",
   "name": "python3"
  },
  "language_info": {
   "codemirror_mode": {
    "name": "ipython",
    "version": 3
   },
   "file_extension": ".py",
   "mimetype": "text/x-python",
   "name": "python",
   "nbconvert_exporter": "python",
   "pygments_lexer": "ipython3",
   "version": "3.13.6"
  }
 },
 "nbformat": 4,
 "nbformat_minor": 5
}
